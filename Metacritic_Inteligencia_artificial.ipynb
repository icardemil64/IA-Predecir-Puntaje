{
  "nbformat": 4,
  "nbformat_minor": 0,
  "metadata": {
    "colab": {
      "name": "Metacritic - Inteligencia artificial.ipynb",
      "provenance": [],
      "collapsed_sections": [],
      "include_colab_link": true
    },
    "kernelspec": {
      "name": "python3",
      "display_name": "Python 3"
    },
    "language_info": {
      "name": "python"
    }
  },
  "cells": [
    {
      "cell_type": "markdown",
      "metadata": {
        "id": "view-in-github",
        "colab_type": "text"
      },
      "source": [
        "<a href=\"https://colab.research.google.com/github/icardemil64/IA-Predecir-Puntaje/blob/main/Metacritic_Inteligencia_artificial.ipynb\" target=\"_parent\"><img src=\"https://colab.research.google.com/assets/colab-badge.svg\" alt=\"Open In Colab\"/></a>"
      ]
    },
    {
      "cell_type": "markdown",
      "metadata": {
        "id": "WvT3OkhOhjxL"
      },
      "source": [
        "#Importar librerías"
      ]
    },
    {
      "cell_type": "code",
      "metadata": {
        "id": "pJdcDVopfkyU",
        "colab": {
          "base_uri": "https://localhost:8080/"
        },
        "outputId": "c4a56d7f-4b9c-47d6-c818-46ea052853f1"
      },
      "source": [
        "import pandas as pd\n",
        "import tensorflow as tf\n",
        "print(\"Tensorflow: \" + tf.__version__)"
      ],
      "execution_count": 83,
      "outputs": [
        {
          "output_type": "stream",
          "text": [
            "Tensorflow: 2.5.0\n"
          ],
          "name": "stdout"
        }
      ]
    },
    {
      "cell_type": "markdown",
      "metadata": {
        "id": "QdZECm6pi-mi"
      },
      "source": [
        "#Importar los datos"
      ]
    },
    {
      "cell_type": "code",
      "metadata": {
        "colab": {
          "base_uri": "https://localhost:8080/"
        },
        "id": "_tT8HS2tjCZZ",
        "outputId": "98ce247b-763b-4915-b989-7075d48a322d"
      },
      "source": [
        "from google.colab import drive\n",
        "drive.mount('/content/drive')\n",
        "data_comentarios = pd.read_csv(\"drive/My Drive/Colab Notebooks/metacritic_game_user_comments.csv\")"
      ],
      "execution_count": 84,
      "outputs": [
        {
          "output_type": "stream",
          "text": [
            "Drive already mounted at /content/drive; to attempt to forcibly remount, call drive.mount(\"/content/drive\", force_remount=True).\n"
          ],
          "name": "stdout"
        }
      ]
    },
    {
      "cell_type": "markdown",
      "metadata": {
        "id": "3YyGQtS1kbpH"
      },
      "source": [
        "##Información comentarios"
      ]
    },
    {
      "cell_type": "code",
      "metadata": {
        "colab": {
          "base_uri": "https://localhost:8080/",
          "height": 359
        },
        "id": "Ycb26goBkd_s",
        "outputId": "57fb345e-f55a-4cf6-dcd2-e34757a8d032"
      },
      "source": [
        "data_comentarios.head(10)"
      ],
      "execution_count": 85,
      "outputs": [
        {
          "output_type": "execute_result",
          "data": {
            "text/html": [
              "<div>\n",
              "<style scoped>\n",
              "    .dataframe tbody tr th:only-of-type {\n",
              "        vertical-align: middle;\n",
              "    }\n",
              "\n",
              "    .dataframe tbody tr th {\n",
              "        vertical-align: top;\n",
              "    }\n",
              "\n",
              "    .dataframe thead th {\n",
              "        text-align: right;\n",
              "    }\n",
              "</style>\n",
              "<table border=\"1\" class=\"dataframe\">\n",
              "  <thead>\n",
              "    <tr style=\"text-align: right;\">\n",
              "      <th></th>\n",
              "      <th>Unnamed: 0</th>\n",
              "      <th>Title</th>\n",
              "      <th>Platform</th>\n",
              "      <th>Userscore</th>\n",
              "      <th>Comment</th>\n",
              "      <th>Username</th>\n",
              "    </tr>\n",
              "  </thead>\n",
              "  <tbody>\n",
              "    <tr>\n",
              "      <th>0</th>\n",
              "      <td>0</td>\n",
              "      <td>The Legend of Zelda: Ocarina of Time</td>\n",
              "      <td>Nintendo64</td>\n",
              "      <td>10</td>\n",
              "      <td>Everything in OoT is so near at perfection, it...</td>\n",
              "      <td>SirCaestus</td>\n",
              "    </tr>\n",
              "    <tr>\n",
              "      <th>1</th>\n",
              "      <td>1</td>\n",
              "      <td>The Legend of Zelda: Ocarina of Time</td>\n",
              "      <td>Nintendo64</td>\n",
              "      <td>10</td>\n",
              "      <td>I won't bore you with what everyone is already...</td>\n",
              "      <td>Kaistlin</td>\n",
              "    </tr>\n",
              "    <tr>\n",
              "      <th>2</th>\n",
              "      <td>2</td>\n",
              "      <td>The Legend of Zelda: Ocarina of Time</td>\n",
              "      <td>Nintendo64</td>\n",
              "      <td>10</td>\n",
              "      <td>Anyone who gives the masterpiece below a 7 or ...</td>\n",
              "      <td>Jacody</td>\n",
              "    </tr>\n",
              "    <tr>\n",
              "      <th>3</th>\n",
              "      <td>3</td>\n",
              "      <td>The Legend of Zelda: Ocarina of Time</td>\n",
              "      <td>Nintendo64</td>\n",
              "      <td>10</td>\n",
              "      <td>I'm one of those people who think that this is...</td>\n",
              "      <td>doodlerman</td>\n",
              "    </tr>\n",
              "    <tr>\n",
              "      <th>4</th>\n",
              "      <td>4</td>\n",
              "      <td>The Legend of Zelda: Ocarina of Time</td>\n",
              "      <td>Nintendo64</td>\n",
              "      <td>10</td>\n",
              "      <td>This game is the highest rated game on Metacr...</td>\n",
              "      <td>StevenA</td>\n",
              "    </tr>\n",
              "    <tr>\n",
              "      <th>5</th>\n",
              "      <td>5</td>\n",
              "      <td>The Legend of Zelda: Ocarina of Time</td>\n",
              "      <td>Nintendo64</td>\n",
              "      <td>10</td>\n",
              "      <td>I think it's funny that you have Zelda haters ...</td>\n",
              "      <td>joei1382</td>\n",
              "    </tr>\n",
              "    <tr>\n",
              "      <th>6</th>\n",
              "      <td>6</td>\n",
              "      <td>The Legend of Zelda: Ocarina of Time</td>\n",
              "      <td>Nintendo64</td>\n",
              "      <td>9</td>\n",
              "      <td>I played A Link To The Past so many times in m...</td>\n",
              "      <td>Corvix</td>\n",
              "    </tr>\n",
              "    <tr>\n",
              "      <th>7</th>\n",
              "      <td>7</td>\n",
              "      <td>The Legend of Zelda: Ocarina of Time</td>\n",
              "      <td>Nintendo64</td>\n",
              "      <td>10</td>\n",
              "      <td>The Legend of Zelda: Ocarina of Time is withou...</td>\n",
              "      <td>pittsburghboy91</td>\n",
              "    </tr>\n",
              "    <tr>\n",
              "      <th>8</th>\n",
              "      <td>8</td>\n",
              "      <td>The Legend of Zelda: Ocarina of Time</td>\n",
              "      <td>Nintendo64</td>\n",
              "      <td>10</td>\n",
              "      <td>This review contains spoilers, cli...</td>\n",
              "      <td>Nosidda89</td>\n",
              "    </tr>\n",
              "    <tr>\n",
              "      <th>9</th>\n",
              "      <td>9</td>\n",
              "      <td>The Legend of Zelda: Ocarina of Time</td>\n",
              "      <td>Nintendo64</td>\n",
              "      <td>10</td>\n",
              "      <td>I'm not kidding when I say that this is the on...</td>\n",
              "      <td>Regeneration13</td>\n",
              "    </tr>\n",
              "  </tbody>\n",
              "</table>\n",
              "</div>"
            ],
            "text/plain": [
              "   Unnamed: 0  ...         Username\n",
              "0           0  ...       SirCaestus\n",
              "1           1  ...         Kaistlin\n",
              "2           2  ...           Jacody\n",
              "3           3  ...       doodlerman\n",
              "4           4  ...          StevenA\n",
              "5           5  ...         joei1382\n",
              "6           6  ...           Corvix\n",
              "7           7  ...  pittsburghboy91\n",
              "8           8  ...        Nosidda89\n",
              "9           9  ...   Regeneration13\n",
              "\n",
              "[10 rows x 6 columns]"
            ]
          },
          "metadata": {
            "tags": []
          },
          "execution_count": 85
        }
      ]
    },
    {
      "cell_type": "code",
      "metadata": {
        "colab": {
          "base_uri": "https://localhost:8080/"
        },
        "id": "i6AWaIlYnrSs",
        "outputId": "c676b353-557c-4944-8922-53c3a0508738"
      },
      "source": [
        "len(data_comentarios)"
      ],
      "execution_count": 86,
      "outputs": [
        {
          "output_type": "execute_result",
          "data": {
            "text/plain": [
              "283983"
            ]
          },
          "metadata": {
            "tags": []
          },
          "execution_count": 86
        }
      ]
    },
    {
      "cell_type": "markdown",
      "metadata": {
        "id": "JBAsug9cmSyj"
      },
      "source": [
        "# Limpiar datos 🧹\n"
      ]
    },
    {
      "cell_type": "markdown",
      "metadata": {
        "id": "oZQ9AJ3m3hju"
      },
      "source": [
        "##Filtra por la cantidad de caractes de los comentarios"
      ]
    },
    {
      "cell_type": "code",
      "metadata": {
        "id": "E4ZJ0NiPmz-j"
      },
      "source": [
        "data_comentarios = data_comentarios[data_comentarios['Comment'].str.len() > 280] #Comentario más largo que un Tweet."
      ],
      "execution_count": 87,
      "outputs": []
    },
    {
      "cell_type": "code",
      "metadata": {
        "colab": {
          "base_uri": "https://localhost:8080/"
        },
        "id": "5C_c5Czd4qY2",
        "outputId": "92aa88b9-bcce-4c86-847a-58a50ccf91c6"
      },
      "source": [
        "len(data_comentarios)"
      ],
      "execution_count": 88,
      "outputs": [
        {
          "output_type": "execute_result",
          "data": {
            "text/plain": [
              "186346"
            ]
          },
          "metadata": {
            "tags": []
          },
          "execution_count": 88
        }
      ]
    },
    {
      "cell_type": "markdown",
      "metadata": {
        "id": "VbRmSj_33ogu"
      },
      "source": [
        "##Filtra los comentarios que no sean en inglés"
      ]
    },
    {
      "cell_type": "code",
      "metadata": {
        "id": "KSyI1jZP3uuv"
      },
      "source": [
        "data_comentarios = data_comentarios[data_comentarios['Comment'].map(lambda x: x.isascii())]"
      ],
      "execution_count": 89,
      "outputs": []
    },
    {
      "cell_type": "markdown",
      "metadata": {
        "id": "GhMJwR2g7ajh"
      },
      "source": [
        "##Elimina las columnas de Platform y Username"
      ]
    },
    {
      "cell_type": "code",
      "metadata": {
        "id": "ETJQOvnJ7sQP"
      },
      "source": [
        "del data_comentarios[\"Platform\"]\n",
        "del data_comentarios[\"Username\"]"
      ],
      "execution_count": 90,
      "outputs": []
    },
    {
      "cell_type": "code",
      "metadata": {
        "colab": {
          "base_uri": "https://localhost:8080/"
        },
        "id": "08dHMAqa4mML",
        "outputId": "c31291a8-a60a-4fe3-c867-fcc8fba76d17"
      },
      "source": [
        "len(data_comentarios)"
      ],
      "execution_count": 92,
      "outputs": [
        {
          "output_type": "execute_result",
          "data": {
            "text/plain": [
              "173526"
            ]
          },
          "metadata": {
            "tags": []
          },
          "execution_count": 92
        }
      ]
    },
    {
      "cell_type": "code",
      "metadata": {
        "colab": {
          "base_uri": "https://localhost:8080/",
          "height": 359
        },
        "id": "IxS0MhIB4cbC",
        "outputId": "7aca8282-4a86-4a2b-9e17-73efd3696cf0"
      },
      "source": [
        "data_comentarios.head(10)"
      ],
      "execution_count": 91,
      "outputs": [
        {
          "output_type": "execute_result",
          "data": {
            "text/html": [
              "<div>\n",
              "<style scoped>\n",
              "    .dataframe tbody tr th:only-of-type {\n",
              "        vertical-align: middle;\n",
              "    }\n",
              "\n",
              "    .dataframe tbody tr th {\n",
              "        vertical-align: top;\n",
              "    }\n",
              "\n",
              "    .dataframe thead th {\n",
              "        text-align: right;\n",
              "    }\n",
              "</style>\n",
              "<table border=\"1\" class=\"dataframe\">\n",
              "  <thead>\n",
              "    <tr style=\"text-align: right;\">\n",
              "      <th></th>\n",
              "      <th>Unnamed: 0</th>\n",
              "      <th>Title</th>\n",
              "      <th>Userscore</th>\n",
              "      <th>Comment</th>\n",
              "    </tr>\n",
              "  </thead>\n",
              "  <tbody>\n",
              "    <tr>\n",
              "      <th>2</th>\n",
              "      <td>2</td>\n",
              "      <td>The Legend of Zelda: Ocarina of Time</td>\n",
              "      <td>10</td>\n",
              "      <td>Anyone who gives the masterpiece below a 7 or ...</td>\n",
              "    </tr>\n",
              "    <tr>\n",
              "      <th>3</th>\n",
              "      <td>3</td>\n",
              "      <td>The Legend of Zelda: Ocarina of Time</td>\n",
              "      <td>10</td>\n",
              "      <td>I'm one of those people who think that this is...</td>\n",
              "    </tr>\n",
              "    <tr>\n",
              "      <th>4</th>\n",
              "      <td>4</td>\n",
              "      <td>The Legend of Zelda: Ocarina of Time</td>\n",
              "      <td>10</td>\n",
              "      <td>This game is the highest rated game on Metacr...</td>\n",
              "    </tr>\n",
              "    <tr>\n",
              "      <th>5</th>\n",
              "      <td>5</td>\n",
              "      <td>The Legend of Zelda: Ocarina of Time</td>\n",
              "      <td>10</td>\n",
              "      <td>I think it's funny that you have Zelda haters ...</td>\n",
              "    </tr>\n",
              "    <tr>\n",
              "      <th>7</th>\n",
              "      <td>7</td>\n",
              "      <td>The Legend of Zelda: Ocarina of Time</td>\n",
              "      <td>10</td>\n",
              "      <td>The Legend of Zelda: Ocarina of Time is withou...</td>\n",
              "    </tr>\n",
              "    <tr>\n",
              "      <th>8</th>\n",
              "      <td>8</td>\n",
              "      <td>The Legend of Zelda: Ocarina of Time</td>\n",
              "      <td>10</td>\n",
              "      <td>This review contains spoilers, cli...</td>\n",
              "    </tr>\n",
              "    <tr>\n",
              "      <th>9</th>\n",
              "      <td>9</td>\n",
              "      <td>The Legend of Zelda: Ocarina of Time</td>\n",
              "      <td>10</td>\n",
              "      <td>I'm not kidding when I say that this is the on...</td>\n",
              "    </tr>\n",
              "    <tr>\n",
              "      <th>10</th>\n",
              "      <td>10</td>\n",
              "      <td>The Legend of Zelda: Ocarina of Time</td>\n",
              "      <td>10</td>\n",
              "      <td>Essentially one of the best games of all time,...</td>\n",
              "    </tr>\n",
              "    <tr>\n",
              "      <th>11</th>\n",
              "      <td>11</td>\n",
              "      <td>The Legend of Zelda: Ocarina of Time</td>\n",
              "      <td>10</td>\n",
              "      <td>THIS is the PERFECT game ! no doubt. the gamep...</td>\n",
              "    </tr>\n",
              "    <tr>\n",
              "      <th>16</th>\n",
              "      <td>16</td>\n",
              "      <td>The Legend of Zelda: Ocarina of Time</td>\n",
              "      <td>10</td>\n",
              "      <td>Amazing game in every aspect, i just want to ...</td>\n",
              "    </tr>\n",
              "  </tbody>\n",
              "</table>\n",
              "</div>"
            ],
            "text/plain": [
              "    Unnamed: 0  ...                                            Comment\n",
              "2            2  ...  Anyone who gives the masterpiece below a 7 or ...\n",
              "3            3  ...  I'm one of those people who think that this is...\n",
              "4            4  ...   This game is the highest rated game on Metacr...\n",
              "5            5  ...  I think it's funny that you have Zelda haters ...\n",
              "7            7  ...  The Legend of Zelda: Ocarina of Time is withou...\n",
              "8            8  ...              This review contains spoilers, cli...\n",
              "9            9  ...  I'm not kidding when I say that this is the on...\n",
              "10          10  ...  Essentially one of the best games of all time,...\n",
              "11          11  ...  THIS is the PERFECT game ! no doubt. the gamep...\n",
              "16          16  ...   Amazing game in every aspect, i just want to ...\n",
              "\n",
              "[10 rows x 4 columns]"
            ]
          },
          "metadata": {
            "tags": []
          },
          "execution_count": 91
        }
      ]
    }
  ]
}